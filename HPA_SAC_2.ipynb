{
  "cells": [
    {
      "cell_type": "code",
      "execution_count": 1,
      "metadata": {
        "colab": {
          "base_uri": "https://localhost:8080/"
        },
        "id": "EGpREctqw3Cr",
        "outputId": "692c1f13-7c54-4d58-9684-44b87b4d5aa1"
      },
      "outputs": [
        {
          "output_type": "stream",
          "name": "stdout",
          "text": [
            "Drive already mounted at /content/gdrive; to attempt to forcibly remount, call drive.mount(\"/content/gdrive\", force_remount=True).\n"
          ]
        }
      ],
      "source": [
        "import os\n",
        "import datetime\n",
        "from google.colab import drive\n",
        "drive.mount('/content/gdrive')\n",
        "\n",
        "os.chdir('/content/gdrive/My Drive/Reinforcement Learning/actor_critic')\n",
        "# !ls"
      ]
    },
    {
      "cell_type": "code",
      "execution_count": 2,
      "metadata": {
        "id": "dbk7O_ylzmhQ"
      },
      "outputs": [],
      "source": [
        "# !pip install wandb -qU"
      ]
    },
    {
      "cell_type": "code",
      "execution_count": 3,
      "metadata": {
        "id": "xa5BTsoCxb2P"
      },
      "outputs": [],
      "source": [
        "from gym import Env\n",
        "from gym.spaces import Box\n",
        "import numpy as np\n",
        "import matplotlib.pyplot as plt\n",
        "import numpy as np\n",
        "from gym.utils import seeding\n",
        "from IPython.display import clear_output\n",
        "from scipy.fft import fft, ifft\n",
        "from scipy.interpolate import interp1d\n",
        "from scipy.io import loadmat,savemat\n",
        "# import wandb\n",
        "from matplotlib import style\n",
        "import warnings\n",
        "# warnings.filterwarnings(\"ignore\")\n",
        "import torch as T\n",
        "# from sac_nn import SAC_Agent\n",
        "from sac_rnn import SAC_Agent"
      ]
    },
    {
      "cell_type": "code",
      "execution_count": 4,
      "metadata": {
        "id": "kfqt8MgBxhQd",
        "colab": {
          "base_uri": "https://localhost:8080/"
        },
        "outputId": "17b7d306-6f00-4c14-9a1d-72d2945a5157"
      },
      "outputs": [
        {
          "output_type": "stream",
          "name": "stderr",
          "text": [
            "/usr/local/lib/python3.10/dist-packages/ipykernel/ipkernel.py:283: DeprecationWarning: `should_run_async` will not call `transform_cell` automatically in the future. Please pass the result to `transformed_cell` argument and any exception that happen during thetransform in `preprocessing_exc_tuple` in IPython 7.17 and above.\n",
            "  and should_run_async(code)\n"
          ]
        }
      ],
      "source": [
        "class CBC_Env(Env):\n",
        "\n",
        "  def __init__(self, obs_dim,n_actions=2,action_scale=1,noise_scale=1,eps_length=500, bias_point=0, v_pi=1,eval=False):\n",
        "    super(CBC_Env, self).__init__()\n",
        "    self.obs_dim = obs_dim\n",
        "    self.n_actions = n_actions\n",
        "    self.low = -action_scale*np.ones((self.n_actions,),dtype=np.float32)\n",
        "    self.high = action_scale*np.ones((self.n_actions),dtype=np.float32)\n",
        "    self.action_space =  Box(self.low,self.high)\n",
        "    self.observation_space = Box(low=0, high=self.n_actions**2, shape=(self.obs_dim,))\n",
        "    self.eps_length=eps_length\n",
        "    self.reward = 0\n",
        "    self.done = False\n",
        "    self.s = []\n",
        "    self.phi = None\n",
        "    self.noise_scale = noise_scale\n",
        "    self.seed()\n",
        "    self.bias_point = bias_point\n",
        "    self.v_pi = v_pi\n",
        "    self.eval = eval\n",
        "\n",
        "  def seed(self, seed=None):\n",
        "    self.np_random, seed = seeding.np_random(seed)\n",
        "    return [seed]\n",
        "\n",
        "  def env_pn(self,n_channel,cyc,delt):\n",
        "    data = loadmat('new_spline_fit.mat')\n",
        "    env_t = data['env_t']\n",
        "    env_1 = data['env_1']\n",
        "    f = interp1d(env_t[:,0], env_1[:,0], kind='cubic')\n",
        "    t_samp = np.arange(-10,-10+cyc,delt)\n",
        "    env_n = f(t_samp)\n",
        "    fft_env1 = fft(env_n)\n",
        "\n",
        "    P1a = np.ones((n_channel,len(env_n)), dtype=np.cdouble)\n",
        "    for ii in range(n_channel):\n",
        "      P1a[ii,:] = ifft(fft_env1*np.exp(1j*2*np.pi*np.random.rand(1,len(env_n))))\n",
        "\n",
        "    P1b = np.zeros((n_channel,len(env_n)))\n",
        "    for ii in range(n_channel):\n",
        "      P1b[ii,:] = (np.abs(P1a[ii,:])/np.mean(np.abs(P1a[ii,:])))-1\n",
        "\n",
        "    P1b_ = np.abs(P1b)\n",
        "    max_array = P1b_.max(axis=1)\n",
        "    P1 = np.arccos(np.transpose(P1b)/max_array)\n",
        "    return P1\n",
        "\n",
        "\n",
        "  def step(self, action):\n",
        "    # action = action*np.pi\n",
        "    self.eps_cntr -= 1\n",
        "    cntr = self.eps_length-self.eps_cntr+self.obs_dim\n",
        "\n",
        "    action = np.pi*action/self.v_pi + self.bias_point\n",
        "    action[0] = 0\n",
        "\n",
        "    E = np.exp(1j*(self.noise[cntr,:]+action))\n",
        "\n",
        "    I = np.abs(np.sum(E))**2\n",
        "    self.state = np.append(self.state,I)\n",
        "    # delete the first element of the state\n",
        "    self.state = np.delete(self.state,0)\n",
        "    self.reward = I/self.observation_space.high[0]\n",
        "\n",
        "    if self.eps_cntr == 0:\n",
        "      self.done = True\n",
        "    else:\n",
        "      if self.eval==False:\n",
        "        self.done = self.terminal()\n",
        "      else:\n",
        "        self.done = False\n",
        "\n",
        "    return self.state/self.observation_space.high[0], self.reward, self.done,self.noise[cntr,:]\n",
        "\n",
        "  def timeout(self):\n",
        "    if self.eps_cntr == 0:\n",
        "      return True\n",
        "    else:\n",
        "      return False\n",
        "\n",
        "  def terminal(self):\n",
        "    if self.eps_cntr < self.eps_length/2:\n",
        "      if np.mean(self.state[-50:]/self.observation_space.high[0])<0.60:\n",
        "        return True\n",
        "      else:\n",
        "        return False\n",
        "    else:\n",
        "      return False\n",
        "\n",
        "  def reset(self,noise_scale=None):\n",
        "\n",
        "    self.eps_cntr = self.eps_length\n",
        "    fs = 5e6/20\n",
        "    del_t = 1/fs\n",
        "    self.noise = self.env_pn(self.n_actions,1*(self.obs_dim+\\\n",
        "                                                self.eps_length+2)*del_t,del_t)\n",
        "    if noise_scale is None:\n",
        "      noise_scale = self.noise_scale\n",
        "\n",
        "    self.noise = noise_scale*(2*self.noise-np.pi)\n",
        "    self.noise += np.random.uniform(-np.pi,np.pi,size=(1,self.n_actions))\n",
        "    self.noise[:,0] = 0\n",
        "    E = np.exp(1j*self.noise[0:self.obs_dim,:])\n",
        "    self.state = np.abs(np.sum(E,axis=1))**2\n",
        "    return self.state/(self.n_actions**2)\n",
        "\n",
        "  def render(self, title, eps_no, mode='human'):\n",
        "    if self.done == True:\n",
        "      plt.figure(figsize=(14,7))\n",
        "      plt.plot(self.state[-500:])\n",
        "      plt.xlabel('Steps', fontsize=16, fontweight='bold')\n",
        "      plt.ylabel('Normalized Intensity (a.u.)', fontsize=16, fontweight='bold')\n",
        "      plt.title(title, fontsize=18, fontweight='bold')\n",
        "      plt.xticks(fontsize=16)\n",
        "      plt.yticks(fontsize=16)\n",
        "      plt.grid()\n",
        "      plt.ylim(0,self.observation_space.high[0])\n",
        "      plt.savefig('./sac_8_arm/eps_{_i}.png'.format(_i=eps_no))\n",
        "      print('saved ' + 'eps_{_i}.png'.format(_i=eps_no))\n",
        "      plt.close()"
      ]
    },
    {
      "cell_type": "code",
      "execution_count": 5,
      "metadata": {
        "id": "tXzMmEsAz271"
      },
      "outputs": [],
      "source": [
        "def eval_agent(agent, env, noise_scale=0,rate=1, no_op=False):\n",
        "  agent.actor.eval()\n",
        "  for par in agent.actor.parameters():\n",
        "    par.requires_grad = False # freeze actor\n",
        "  done = False\n",
        "  score = 0\n",
        "  obs = env.reset(noise_scale=noise_scale)\n",
        "  r_hist = []\n",
        "  act_hist = []\n",
        "  t_step=0\n",
        "  while not done:\n",
        "    if no_op ==False:\n",
        "      if t_step%rate==0:\n",
        "        action = 1.1*agent.choose_action(obs.reshape(1,-1,1),True)+1.1\n",
        "\n",
        "        mod_action = action#np.append(0,action)\n",
        "      act_hist.append(action)\n",
        "    else:\n",
        "      mod_action = np.zeros(env.n_actions)\n",
        "      act_hist.append(mod_action)\n",
        "    obs_, reward, done,_ = env.step(mod_action)\n",
        "    r_hist.append(reward)\n",
        "    score += reward\n",
        "    obs = obs_\n",
        "    t_step+=1\n",
        "  print('eval score: ', score)\n",
        "  for par in agent.actor.parameters():\n",
        "    par.requires_grad = True # unfreeze actor\n",
        "  agent.actor.train()\n",
        "  if score/env.eps_length > 0.8:\n",
        "    return True, r_hist, act_hist\n",
        "  return False, r_hist, act_hist"
      ]
    },
    {
      "cell_type": "code",
      "execution_count": 6,
      "metadata": {
        "id": "GnTKpu1TyC-o"
      },
      "outputs": [],
      "source": [
        "config = {'alpha':3e-4, 'beta':3e-4, 'gamma':0.99, 'tau':0.005, 'max_size':int(1e6), 'batch_size':256, 'n_actions':2         , \\\n",
        "        'obs_dim':500, 'n_games':1000, 'fc1':256, 'fc2':256,'env_id':'filled_aper','max_action':1,'act_dist':'normal',\\\n",
        "          'bidir':False}"
      ]
    },
    {
      "cell_type": "code",
      "execution_count": 7,
      "metadata": {
        "colab": {
          "base_uri": "https://localhost:8080/"
        },
        "id": "J6XpO2btyeDn",
        "outputId": "46d28b20-a859-46da-acbf-87ab53abb240"
      },
      "outputs": [
        {
          "output_type": "stream",
          "name": "stdout",
          "text": [
            "Name: filled_aper_normal_2_arm_v6\n",
            "ActorNetwork(\n",
            "  (gru): GRU(1, 256, batch_first=True)\n",
            "  (fc2): Linear(in_features=256, out_features=256, bias=True)\n",
            "  (mu): Linear(in_features=256, out_features=2, bias=True)\n",
            "  (sigma): Linear(in_features=256, out_features=2, bias=True)\n",
            ")\n",
            "CriticNetwork(\n",
            "  (gru): GRU(1, 256, batch_first=True)\n",
            "  (fc2): Linear(in_features=258, out_features=256, bias=True)\n",
            "  (q1): Linear(in_features=256, out_features=1, bias=True)\n",
            ")\n"
          ]
        },
        {
          "output_type": "execute_result",
          "data": {
            "text/plain": [
              "4.75"
            ]
          },
          "metadata": {},
          "execution_count": 7
        }
      ],
      "source": [
        "v_pi = 1.1\n",
        "env = CBC_Env(obs_dim=config['obs_dim'],n_actions=config['n_actions'],action_scale=config['max_action'],noise_scale=1,eps_length=1000, bias_point=4.75, v_pi=v_pi)\n",
        "\n",
        "# wandb.init(project=\"cbc_normal\", entity=\"viswa_ee\", config=config)\n",
        "name = config['env_id'] + '_' + config['act_dist'] + '_' + str(config['n_actions']) + '_arm_v6'#+str(env.noise_scale).replace('.','_')+'_noise_scale'\n",
        "print('Name:', name)\n",
        "# wandb.run.name = config['env_id'] + '_' + config['act_dist'] + '_' + str(config['n_actions']) + '_arm_'+str(env.noise_scale).replace('.','_')+'_noise_scale'\n",
        "\n",
        "agent = SAC_Agent(alpha=config['alpha'], beta=config['beta'], input_dims=(env.observation_space.shape[0],1), tau=config['tau'], \\\n",
        "                  env_id=name, batch_size=config['batch_size'], fc1_dims=config['fc1'], fc2_dims=config['fc2'], \\\n",
        "                    n_actions=config['n_actions'], max_size=config['max_size'], gamma=config['gamma'], act_dist=config['act_dist'])\n",
        "print(agent.actor)\n",
        "print(agent.critic_1)\n",
        "env.bias_point\n",
        "# wandb.watch(agent.actor)\n",
        "# wandb.watch(agent.critic_1)\n"
      ]
    },
    {
      "cell_type": "code",
      "execution_count": 8,
      "metadata": {
        "colab": {
          "base_uri": "https://localhost:8080/",
          "height": 490
        },
        "id": "I6nWoW1I0wQL",
        "outputId": "5f6def76-879d-439b-c3c3-0babc0c289ca"
      },
      "outputs": [
        {
          "output_type": "stream",
          "name": "stderr",
          "text": [
            "/usr/local/lib/python3.10/dist-packages/ipykernel/ipkernel.py:283: DeprecationWarning: `should_run_async` will not call `transform_cell` automatically in the future. Please pass the result to `transformed_cell` argument and any exception that happen during thetransform in `preprocessing_exc_tuple` in IPython 7.17 and above.\n",
            "  and should_run_async(code)\n"
          ]
        },
        {
          "output_type": "display_data",
          "data": {
            "text/plain": [
              "<Figure size 640x480 with 1 Axes>"
            ],
            "image/png": "[encoded data removed]"
          },
          "metadata": {}
        }
      ],
      "source": [
        "obs = env.reset(noise_scale=1)\n",
        "# action = agent.choose_action(obs.reshape(1,-1))\n",
        "# action = np.append(0,0)\n",
        "# print(action)\n",
        "plt.plot(obs)\n",
        "plt.ylim(0,1.2)\n",
        "plt.show()\n",
        "# action = np.array([0,0])\n",
        "# obs_,reward,done,_ = env.step(action)\n",
        "# plt.plot(obs_)\n",
        "# plt.ylim(0,1.2)\n",
        "# plt.show(), np.sum(obs)/500"
      ]
    },
    {
      "cell_type": "code",
      "execution_count": 9,
      "metadata": {
        "colab": {
          "base_uri": "https://localhost:8080/"
        },
        "id": "IRAzLvg2__zT",
        "outputId": "d4d51c94-99df-4553-b74a-807a30c017c8"
      },
      "outputs": [
        {
          "output_type": "stream",
          "name": "stdout",
          "text": [
            "CPU times: user 144 ms, sys: 62.1 ms, total: 207 ms\n",
            "Wall time: 237 ms\n"
          ]
        },
        {
          "output_type": "execute_result",
          "data": {
            "text/plain": [
              "array([ 3.1809134, -2.239764 ], dtype=float32)"
            ]
          },
          "metadata": {},
          "execution_count": 9
        }
      ],
      "source": [
        "%%time\n",
        "agent.choose_action(obs.reshape(1,-1,1))# +4.75"
      ]
    },
    {
      "cell_type": "code",
      "execution_count": null,
      "metadata": {
        "id": "Tf0Drv0Fzw-7",
        "colab": {
          "base_uri": "https://localhost:8080/"
        },
        "outputId": "f51d68d1-1e0d-4451-8e99-2482033bddf8"
      },
      "outputs": [
        {
          "output_type": "stream",
          "name": "stdout",
          "text": [
            "Noise scale:  1\n",
            "... saving ...\n",
            "... saving checkpoint ...\n",
            "eval score:  659.1339470204226\n",
            "Eval:  False\n",
            "eval score:  140.1819303319061\n",
            "Eval:  False\n",
            "eval score:  738.3754135400076\n",
            "Eval:  False\n",
            "Noise scale: 1.0\n",
            "episode  0 score 253.3 average score 253.3 best score 253.3 steps  501 done:  True\n",
            "... saving ...\n",
            "... saving checkpoint ...\n",
            "episode  1 score 276.7 average score 265.0 best score 265.0 steps  501 done:  True\n",
            "episode  2 score 252.7 average score 260.9 best score 265.0 steps  501 done:  True\n",
            "episode  3 score 251.4 average score 258.5 best score 265.0 steps  501 done:  True\n"
          ]
        }
      ],
      "source": [
        "log={}\n",
        "score_hist = []\n",
        "best_score = -np.inf\n",
        "noise_scale = 1#env.noise_scale\n",
        "print('Noise scale: ', noise_scale)\n",
        "step = 0\n",
        "for game in range(config['n_games']):\n",
        "  done = False\n",
        "  score = 0\n",
        "  obs = env.reset(noise_scale=noise_scale)\n",
        "  t=0\n",
        "  while not done:\n",
        "    action = agent.choose_action(obs.reshape(1,-1,1))\n",
        "    mod_action = action#np.append(0,action)\n",
        "    for l in range(len(mod_action)):\n",
        "        log['voltage_'+str(l+1)] = np.pi*(mod_action[l]+1)\n",
        "    obs_, reward, done,noise = env.step(1.1*(mod_action+1))\n",
        "    log['reward'] = reward\n",
        "    score += reward\n",
        "    if env.terminal() == True:\n",
        "      done_ = True\n",
        "    else:\n",
        "      done_ = False\n",
        "    agent.remember(obs.reshape(-1,1), action, reward, obs_.reshape(-1,1), done_)\n",
        "    if agent.mem_ready():\n",
        "      log['actor_loss'], log['critic_loss'], log['ent_loss'], log['ent_coef'] = agent.learn()\n",
        "    obs = obs_\n",
        "    t+=1\n",
        "    # wandb.log(log)\n",
        "    # print(log)\n",
        "  score_hist.append(score)\n",
        "  avg_score = np.mean(score_hist[-100:])\n",
        "  if avg_score > best_score:\n",
        "    print('... saving ...')\n",
        "    agent.save_models()\n",
        "    best_score = avg_score\n",
        "  if game%10 == 0 :#and\n",
        "    env.eval = True\n",
        "    print('Eval: ',eval_agent(agent, env, 0)[0])\n",
        "    print('Eval: ',eval_agent(agent, env, 0.5)[0])\n",
        "    print('Eval: ',eval_agent(agent, env, 1)[0])\n",
        "    env.eval=False\n",
        "\n",
        "  if game%50 ==0:\n",
        "    noise_scale = min(1,noise_scale+0.1)\n",
        "    print('Noise scale: %0.1f'%noise_scale)\n",
        "\n",
        "  # if game%100==0 and game>1:\n",
        "  #   agent.memory.delete_first_n(50*env.eps_length)\n",
        "\n",
        "  print('episode ', game, 'score %.1f' % score,\n",
        "          'average score %.1f' % avg_score, 'best score %0.1f'%best_score, 'steps ', t, 'done: ', done_)"
      ]
    },
    {
      "cell_type": "code",
      "execution_count": null,
      "metadata": {
        "id": "NxcACePGWuV0"
      },
      "outputs": [],
      "source": [
        "agent.load_models()"
      ]
    },
    {
      "cell_type": "code",
      "execution_count": null,
      "metadata": {
        "id": "APQm4LmkXcxa"
      },
      "outputs": [],
      "source": [
        "env = CBC_Env(obs_dim=config['obs_dim'],n_actions=config['n_actions'],action_scale=config['max_action'],noise_scale=1,eps_length=1000, bias_point=0, v_pi=v_pi, eval=True)"
      ]
    },
    {
      "cell_type": "code",
      "execution_count": null,
      "metadata": {
        "id": "y35SK0kx_BZA"
      },
      "outputs": [],
      "source": [
        "r2 = np.array([])\n",
        "a2 = np.array([])\n",
        "for _ in range(20):\n",
        "  eval,r_hist, act_hist = eval_agent(agent, env, 1,rate=1,no_op=False)\n",
        "  r2 = np.append(r2,r_hist)\n",
        "  a2 = np.append(a2,act_hist)\n",
        "print(eval)\n",
        "plt.plot(r2.ravel())\n",
        "plt.axhline(np.mean(r2.ravel()), linestyle='dashed', linewidth=2, color='k', label='mean: {_m}'.format(_m = np.round(np.mean(r2.ravel()),2)))\n",
        "plt.ylim(0,1.2)\n",
        "plt.legend()\n",
        "plt.xlabel('Steps',fontsize=12)\n",
        "plt.ylabel('Norm. Intensity', fontsize=12)\n",
        "plt.grid()\n",
        "plt.show()\n",
        "\n",
        "plt.plot(np.pi*a2.ravel())\n",
        "plt.xlabel('Steps',fontsize=14)\n",
        "plt.ylabel('PZT Voltage',fontsize=14)\n",
        "plt.grid()\n",
        "plt.show()"
      ]
    },
    {
      "cell_type": "code",
      "execution_count": null,
      "metadata": {
        "id": "-cng0wCg6Oqs"
      },
      "outputs": [],
      "source": [
        "plt.plot(np.pi*a2.ravel())\n",
        "plt.xlabel('Steps',fontsize=14)\n",
        "plt.ylabel('PZT Voltage',fontsize=14)\n",
        "plt.grid()\n",
        "plt.show()\n",
        "# plt.ylim(0,2.4)"
      ]
    },
    {
      "cell_type": "code",
      "execution_count": null,
      "metadata": {
        "id": "nIqWApxfFBaR"
      },
      "outputs": [],
      "source": [
        "# agent.actor.eval()\n",
        "%%time\n",
        "actor = T.jit.load('./tmp/sac/actor_{_i}_channel_jit_v12.pt'.format(_i=config['n_actions']))\n",
        "env = CBC_Env(obs_dim=config['obs_dim'],n_actions=config['n_actions'],action_scale=config['max_action'],noise_scale=1,eps_length=100000, bias_point=0, v_pi=v_pi, eval=True)\n",
        "\n",
        "# for par in agent.actor.parameters():\n",
        "#   par.requires_grad = False # freeze actor\n",
        "done = False\n",
        "score = 0\n",
        "obs = env.reset(noise_scale=1)\n",
        "r_hist = []\n",
        "t_step = 0\n",
        "act_hist=[]\n",
        "while not done:\n",
        "  s = T.tensor(obs.reshape(1,-1),dtype=T.float).to('cuda:0')\n",
        "  if t_step%1==0:\n",
        "    action = 1.1*T.tanh(actor.forward(s)[0]).cpu().detach().numpy()[0]#+1.1\n",
        "  act_hist.append(action)\n",
        "  # agent.choose_action(obs.reshape(1,-1),True)\n",
        "  mod_action = np.append(0,action)\n",
        "  obs_, reward, done,_ = env.step(mod_action)\n",
        "  r_hist.append(reward)\n",
        "  obs = obs_\n",
        "  t_step+=1\n",
        "# print('eval score: ', score)\n",
        "# for par in agent.actor.parameters():\n",
        "#   par.requires_grad = True # unfreeze actor\n",
        "# agent.actor.train()\n",
        "plt.plot(r_hist)\n",
        "# plt.ylim(0,1.2)\n",
        "plt.axhline(np.mean(r_hist),label='mean: {_m}'.format(_m = np.round(np.mean(r_hist),2)),color='k',linestyle='dashed',linewidth=2)\n",
        "plt.legend()\n",
        "\n",
        "plt.show()\n",
        "plt.plot(act_hist,label='action')\n",
        "plt.show()\n",
        "np.sum(r_hist)"
      ]
    },
    {
      "cell_type": "code",
      "source": [
        "0.25*np.pi/1.1"
      ],
      "metadata": {
        "id": "yLiKVoWNtIa3"
      },
      "execution_count": null,
      "outputs": []
    },
    {
      "cell_type": "code",
      "execution_count": null,
      "metadata": {
        "id": "K4AwfBp1jI2-"
      },
      "outputs": [],
      "source": [
        "import torch as T\n",
        "actor = T.jit.trace(agent.actor, T.randn(1,500).to('cuda:0'))\n",
        "T.jit.save(actor, './tmp/sac/actor_{_i}_channel_jit_v12.pt'.format(_i=config['n_actions']))"
      ]
    },
    {
      "cell_type": "code",
      "execution_count": null,
      "metadata": {
        "id": "uN9FqUA7qoPR"
      },
      "outputs": [],
      "source": [
        "actor = T.jit.load('./tmp/sac/actor_{_i}_channel_jit_v12.pt'.format(_i=config['n_actions']))"
      ]
    },
    {
      "cell_type": "code",
      "execution_count": null,
      "metadata": {
        "id": "7ms-j-IOrld2"
      },
      "outputs": [],
      "source": [
        "%%timeit\n",
        "s = T.rand(1,500).to('cuda:0')\n",
        "T.tanh(actor.forward(s)[0])"
      ]
    },
    {
      "cell_type": "code",
      "source": [
        "plt.plot(env.noise[:,1])"
      ],
      "metadata": {
        "id": "BxBpXyultVvk"
      },
      "execution_count": null,
      "outputs": []
    }
  ],
  "metadata": {
    "accelerator": "GPU",
    "colab": {
      "provenance": []
    },
    "kernelspec": {
      "display_name": "Python 3",
      "name": "python3"
    },
    "language_info": {
      "name": "python"
    }
  },
  "nbformat": 4,
  "nbformat_minor": 0
}